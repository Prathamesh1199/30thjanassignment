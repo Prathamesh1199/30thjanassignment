{
 "cells": [
  {
   "cell_type": "code",
   "execution_count": null,
   "id": "926b014b-b919-4166-bd49-b5eafd591c39",
   "metadata": {},
   "outputs": [],
   "source": [
    "1: From the given data"
   ]
  },
  {
   "cell_type": "code",
   "execution_count": null,
   "id": "7fe798cc-4904-49c5-8246-918ba6586219",
   "metadata": {},
   "outputs": [],
   "source": [
    "percentage = float(input(\"Enter percentage:\"))\n",
    "\n",
    "if percentage > 90:\n",
    "    print(\"A\")\n",
    "elif percentage > 80 and percentage <= 90:\n",
    "    print(\"B\")\n",
    "elif percentage >= 60 and percentage <= 80:\n",
    "    print(\"C\")\n",
    "else:\n",
    "    print(\"D\")"
   ]
  },
  {
   "cell_type": "code",
   "execution_count": null,
   "id": "f0a166a6-8b8a-460b-a90a-7a5c9df4b7a7",
   "metadata": {},
   "outputs": [],
   "source": []
  },
  {
   "cell_type": "code",
   "execution_count": null,
   "id": "f3f1fcd1-ad46-42ac-9f1e-5c106b26d6f0",
   "metadata": {},
   "outputs": [],
   "source": [
    "2: From given information"
   ]
  },
  {
   "cell_type": "code",
   "execution_count": null,
   "id": "40c669b7-f8ee-450e-afa2-017f5640893b",
   "metadata": {},
   "outputs": [],
   "source": [
    "cost_price = float(input(\"enter bike cost price\"))\n",
    "\n",
    "if cost_price > 100000:\n",
    "    tax = cost_price* 0.15\n",
    "    print(\"th road tax to be paid is:\",tax)\n",
    "elif cost_price > 50000:\n",
    "    tax = cost_price* 0.10\n",
    "    print(\"the road tax to be paid is:\",tax)\n",
    "else:\n",
    "    tax = cost_price* 0.05\n",
    "    print(\"the road tax to be paid is:\", tax)"
   ]
  },
  {
   "cell_type": "code",
   "execution_count": null,
   "id": "1105aa3b-7633-43ef-bca7-7ef9e268f16a",
   "metadata": {},
   "outputs": [],
   "source": []
  },
  {
   "cell_type": "code",
   "execution_count": null,
   "id": "73edf049-f0cd-4b63-ac8f-7b0cde4a232c",
   "metadata": {},
   "outputs": [],
   "source": [
    "3: From given information"
   ]
  },
  {
   "cell_type": "code",
   "execution_count": null,
   "id": "639469dc-e7a8-45b0-982e-38056f0a97dd",
   "metadata": {},
   "outputs": [],
   "source": [
    "city = input(\"enter a city\")\n",
    "\n",
    "if city == \"Delhi\":\n",
    "    print(\"Monument in\", city, \"red fort\")\n",
    "elif city == \"Agra\":\n",
    "         print(\"Monument in\", city, \"taj mahal\")\n",
    "elif city == \"jaipur\":\n",
    "         print(\"Monument in\", city, \" Jal Mahal\")\n",
    "else:\n",
    "    print(\"Monument infromation not available\")"
   ]
  },
  {
   "cell_type": "code",
   "execution_count": null,
   "id": "b43c25f7-5d15-4962-b1d1-290c52c792b5",
   "metadata": {},
   "outputs": [],
   "source": []
  },
  {
   "cell_type": "code",
   "execution_count": null,
   "id": "6e247aa1-8f32-4f92-b595-793a85d0be31",
   "metadata": {},
   "outputs": [],
   "source": [
    "4: From given infromations"
   ]
  },
  {
   "cell_type": "code",
   "execution_count": null,
   "id": "af27d392-10d8-4b59-b1a8-ed25251ae81b",
   "metadata": {},
   "outputs": [],
   "source": [
    "number = int(input(\"enter a number: \"))\n",
    "count = 0\n",
    "\n",
    "while number > 10:\n",
    "    number = number / 3\n",
    "    count += 1\n",
    "\n",
    "print(\"the number can be divided by 3\", count, \"times before it is less than or equal to 10.\")"
   ]
  },
  {
   "cell_type": "code",
   "execution_count": null,
   "id": "89949048-09da-4c2b-8282-bf6187faddaa",
   "metadata": {},
   "outputs": [],
   "source": []
  },
  {
   "cell_type": "code",
   "execution_count": null,
   "id": "ccce0200-a34e-4065-b5b7-59e2833bf48c",
   "metadata": {},
   "outputs": [],
   "source": [
    "5: 1= The \"while\" loop in Python is used\n",
    "   when you want to repeatedly run a block of code as long as a certain condition is true.\n",
    "   2= Here, condition is tested which is performed at the beginning of each iteration.\n",
    "   3=  If condition is True, the code inside the loop will be executed , if False,\n",
    "       the loop will exit and the program will continue with the next line of code after the loop..\n",
    "   "
   ]
  },
  {
   "cell_type": "code",
   "execution_count": null,
   "id": "c2625b7f-999e-4ffd-8595-3b6911be4d7f",
   "metadata": {},
   "outputs": [],
   "source": [
    " count = 1\n",
    "while count <= 10:\n",
    "    print(count)\n",
    "    count += 1"
   ]
  },
  {
   "cell_type": "code",
   "execution_count": null,
   "id": "4fc594fc-d31f-4edc-bb52-0f549f88febe",
   "metadata": {},
   "outputs": [],
   "source": [
    "  here, the condition 'count<=!0' is checked at beginning.\n",
    "     As long as count is less than or equal to 10,  loop keep running and printing\n",
    "   the current value of \"count\".\n",
    "once  \"Count\" value increas or morethan 10 which is 11 , then the condition will be false,\n",
    "  result of which the loop will exit."
   ]
  },
  {
   "cell_type": "code",
   "execution_count": null,
   "id": "8c1076a0-844d-4b30-b5f7-4bc172d73629",
   "metadata": {},
   "outputs": [],
   "source": []
  },
  {
   "cell_type": "code",
   "execution_count": null,
   "id": "9bc49b98-545f-4776-b1e5-7588021e537f",
   "metadata": {},
   "outputs": [],
   "source": [
    "6: A Nested \"while\" loop is a 'while' loop that is inside another \"while\" loop.\n",
    "   here are 3 different pattern,\n",
    "    1. pyramid\n",
    "    2. diamond\n",
    "    3. triangle"
   ]
  },
  {
   "cell_type": "code",
   "execution_count": null,
   "id": "39003ef2-b5dc-4a27-897e-839e714b4ad8",
   "metadata": {},
   "outputs": [],
   "source": [
    "\"pyramid pattern\"\n",
    "\n",
    "num = int(input(\"Enter the number of rows: \"))\n",
    "row = 1\n",
    "\n",
    "while row <= num:\n",
    "    col = 1\n",
    "    while col <= num - row:\n",
    "        print(end=\" \")\n",
    "        col += 1\n",
    "    col = 1\n",
    "    while col <= 2 * row - 1:\n",
    "        print(\"*\", end=\"\")\n",
    "        col += 1\n",
    "    print()\n",
    "    row += 1\n"
   ]
  },
  {
   "cell_type": "code",
   "execution_count": null,
   "id": "f66320c6-20e1-4b97-829a-ccfca9856acd",
   "metadata": {},
   "outputs": [],
   "source": [
    "\"diamond pattern\"\n",
    "\n",
    "num = int(input(\"Enter an odd number: \"))\n",
    "row = 1\n",
    "\n",
    "while row <= num // 2 + 1:\n",
    "    col = 1\n",
    "    while col <= num // 2 - row + 1:\n",
    "        print(end=\" \")\n",
    "        col += 1\n",
    "    col = 1\n",
    "    while col <= 2 * row - 1:\n",
    "        print(\"*\", end=\"\")\n",
    "        col += 1\n",
    "    print()\n",
    "    row += 1\n",
    "row = num // 2\n",
    "\n",
    "while row >= 1:\n",
    "    col = 1\n",
    "    while col <= num // 2 - row + 1:\n",
    "        print(end=\" \")\n",
    "        col += 1\n",
    "    col = 1\n",
    "    while col <= 2 * row - 1:\n",
    "        print(\"*\", end=\"\")\n",
    "        col += 1\n",
    "    print()\n",
    "    row -= 1\n"
   ]
  },
  {
   "cell_type": "code",
   "execution_count": null,
   "id": "879e087e-ad12-423d-bb01-2072183f149e",
   "metadata": {},
   "outputs": [],
   "source": [
    "\"triangle patterm\"\n",
    "\n",
    "num = int(input(\"Enter the number of rows: \"))\n",
    "row = 1\n",
    "\n",
    "while row <= num:\n",
    "    col = 1\n",
    "    while col <= row:\n",
    "        print(\"*\", end=\"\")\n",
    "        col += 1\n",
    "    print()\n",
    "    row += 1\n"
   ]
  },
  {
   "cell_type": "code",
   "execution_count": null,
   "id": "a7a6266a-1ced-49f6-9d95-019fae4caad0",
   "metadata": {},
   "outputs": [],
   "source": []
  },
  {
   "cell_type": "code",
   "execution_count": null,
   "id": "b04eb287-b340-420c-b870-51f2732af3d3",
   "metadata": {},
   "outputs": [],
   "source": [
    "7 : Example for  'while' loop to reverse the order of numbers from 10 to 1."
   ]
  },
  {
   "cell_type": "code",
   "execution_count": null,
   "id": "e7553ac2-e725-4383-b703-a8ca2e8c29a5",
   "metadata": {},
   "outputs": [],
   "source": [
    "number = 10\n",
    "   \n",
    "while number >= 1:\n",
    "        print(number)\n",
    "        number -= 1"
   ]
  }
 ],
 "metadata": {
  "kernelspec": {
   "display_name": "Python 3 (ipykernel)",
   "language": "python",
   "name": "python3"
  },
  "language_info": {
   "codemirror_mode": {
    "name": "ipython",
    "version": 3
   },
   "file_extension": ".py",
   "mimetype": "text/x-python",
   "name": "python",
   "nbconvert_exporter": "python",
   "pygments_lexer": "ipython3",
   "version": "3.10.8"
  }
 },
 "nbformat": 4,
 "nbformat_minor": 5
}
